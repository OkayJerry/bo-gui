{
 "cells": [
  {
   "cell_type": "code",
   "execution_count": 33,
   "metadata": {},
   "outputs": [],
   "source": [
    "import math\n",
    "import torch\n",
    "\n",
    "# use a GPU if available\n",
    "device = torch.device(\"cuda\" if torch.cuda.is_available() else \"cpu\")\n",
    "dtype = torch.float"
   ]
  },
  {
   "cell_type": "code",
   "execution_count": 34,
   "metadata": {},
   "outputs": [],
   "source": [
    "# use regular spaced points on the interval [0, 1]\n",
    "train_X = torch.linspace(0, 1, 15, dtype=dtype, device=device)\n",
    "# training data needs to be explicitly multi-dimensional\n",
    "train_X = train_X.unsqueeze(1)\n",
    "\n",
    "# sample observed values and add some synthetic noise\n",
    "train_Y = torch.sin(train_X * (2 * math.pi)) + 0.15 * torch.randn_like(train_X)"
   ]
  },
  {
   "cell_type": "code",
   "execution_count": 35,
   "metadata": {},
   "outputs": [],
   "source": [
    "from botorch.models import SingleTaskGP\n",
    "from gpytorch.constraints import GreaterThan\n",
    "\n",
    "\n",
    "model = SingleTaskGP(train_X=train_X, train_Y=train_Y)\n",
    "model.likelihood.noise_covar.register_constraint(\"raw_noise\", GreaterThan(1e-5))"
   ]
  },
  {
   "cell_type": "code",
   "execution_count": 36,
   "metadata": {},
   "outputs": [],
   "source": [
    "from gpytorch.mlls import ExactMarginalLogLikelihood\n",
    "\n",
    "mll = ExactMarginalLogLikelihood(likelihood=model.likelihood, model=model)\n",
    "# set mll and all submodules to the specified dtype and device\n",
    "mll = mll.to(train_X)"
   ]
  },
  {
   "cell_type": "code",
   "execution_count": 41,
   "metadata": {},
   "outputs": [
    {
     "name": "stdout",
     "output_type": "stream",
     "text": [
      "<generator object Module.parameters at 0x14ac88970>\n"
     ]
    }
   ],
   "source": [
    "from torch.optim import SGD\n",
    "\n",
    "print(model.parameters())\n",
    "optimizer = SGD([{'params': model.parameters()}], lr=0.1)"
   ]
  },
  {
   "cell_type": "code",
   "execution_count": 38,
   "metadata": {},
   "outputs": [
    {
     "name": "stdout",
     "output_type": "stream",
     "text": [
      "Epoch  10/150 - Loss: 1.938 lengthscale: 0.648 noise: 1.998\n",
      "Epoch  20/150 - Loss: 1.900 lengthscale: 0.605 noise: 1.853\n",
      "Epoch  30/150 - Loss: 1.862 lengthscale: 0.568 noise: 1.706\n",
      "Epoch  40/150 - Loss: 1.822 lengthscale: 0.537 noise: 1.558\n",
      "Epoch  50/150 - Loss: 1.780 lengthscale: 0.510 noise: 1.410\n",
      "Epoch  60/150 - Loss: 1.736 lengthscale: 0.486 noise: 1.263\n",
      "Epoch  70/150 - Loss: 1.689 lengthscale: 0.464 noise: 1.118\n",
      "Epoch  80/150 - Loss: 1.640 lengthscale: 0.445 noise: 0.978\n",
      "Epoch  90/150 - Loss: 1.586 lengthscale: 0.427 noise: 0.844\n",
      "Epoch 100/150 - Loss: 1.530 lengthscale: 0.410 noise: 0.719\n",
      "Epoch 110/150 - Loss: 1.470 lengthscale: 0.393 noise: 0.604\n",
      "Epoch 120/150 - Loss: 1.408 lengthscale: 0.377 noise: 0.500\n",
      "Epoch 130/150 - Loss: 1.342 lengthscale: 0.362 noise: 0.409\n",
      "Epoch 140/150 - Loss: 1.275 lengthscale: 0.348 noise: 0.330\n",
      "Epoch 150/150 - Loss: 1.207 lengthscale: 0.337 noise: 0.265\n"
     ]
    }
   ],
   "source": [
    "NUM_EPOCHS = 150\n",
    "\n",
    "model.train()\n",
    "\n",
    "for epoch in range(NUM_EPOCHS):\n",
    "    # clear gradients\n",
    "    optimizer.zero_grad()\n",
    "    # forward pass through the model to obtain the output MultivariateNormal\n",
    "    output = model(train_X)\n",
    "    # Compute negative marginal log likelihood\n",
    "    loss = - mll(output, model.train_targets)\n",
    "    # back prop gradients\n",
    "    loss.backward()\n",
    "    # print every 10 iterations\n",
    "    if (epoch + 1) % 10 == 0:\n",
    "        print(\n",
    "            f\"Epoch {epoch+1:>3}/{NUM_EPOCHS} - Loss: {loss.item():>4.3f} \"\n",
    "            f\"lengthscale: {model.covar_module.base_kernel.lengthscale.item():>4.3f} \" \n",
    "            f\"noise: {model.likelihood.noise.item():>4.3f}\" \n",
    "         )\n",
    "    optimizer.step()"
   ]
  },
  {
   "cell_type": "code",
   "execution_count": 39,
   "metadata": {},
   "outputs": [],
   "source": [
    "# set model (and likelihood)\n",
    "model.eval();"
   ]
  },
  {
   "cell_type": "code",
   "execution_count": 40,
   "metadata": {},
   "outputs": [
    {
     "data": {
      "image/png": "[encoded data removed]",
      "text/plain": [
       "<Figure size 432x288 with 1 Axes>"
      ]
     },
     "metadata": {
      "needs_background": "light"
     },
     "output_type": "display_data"
    }
   ],
   "source": [
    "from matplotlib import pyplot as plt\n",
    "%matplotlib inline\n",
    "\n",
    "# Initialize plot\n",
    "f, ax = plt.subplots(1, 1, figsize=(6, 4))\n",
    "# test model on 101 regular spaced points on the interval [0, 1]\n",
    "test_X = torch.linspace(0, 1, 101, dtype=dtype, device=device)\n",
    "# no need for gradients\n",
    "with torch.no_grad():\n",
    "    # compute posterior\n",
    "    posterior = model.posterior(test_X)\n",
    "    # Get upper and lower confidence bounds (2 standard deviations from the mean)\n",
    "    lower, upper = posterior.mvn.confidence_region()\n",
    "    # Plot training points as black stars\n",
    "    ax.plot(train_X.cpu().numpy(), train_Y.cpu().numpy(), 'k*')\n",
    "    # Plot posterior means as blue line\n",
    "    ax.plot(test_X.cpu().numpy(), posterior.mean.cpu().numpy(), 'b')\n",
    "    # Shade between the lower and upper confidence bounds\n",
    "    ax.fill_between(test_X.cpu().numpy(), lower.cpu().numpy(), upper.cpu().numpy(), alpha=0.5)\n",
    "ax.legend(['Observed Data', 'Mean', 'Confidence'])\n",
    "plt.tight_layout()"
   ]
  }
 ],
 "metadata": {
  "kernelspec": {
   "display_name": "Python 3.9.13 64-bit",
   "language": "python",
   "name": "python3"
  },
  "language_info": {
   "codemirror_mode": {
    "name": "ipython",
    "version": 3
   },
   "file_extension": ".py",
   "mimetype": "text/x-python",
   "name": "python",
   "nbconvert_exporter": "python",
   "pygments_lexer": "ipython3",
   "version": "3.9.13"
  },
  "orig_nbformat": 4,
  "vscode": {
   "interpreter": {
    "hash": "aee8b7b246df8f9039afb4144a1f6fd8d2ca17a180786b69acc140d282b71a49"
   }
  }
 },
 "nbformat": 4,
 "nbformat_minor": 2
}
