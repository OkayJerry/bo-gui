{
 "cells": [
  {
   "cell_type": "code",
   "execution_count": 39,
   "metadata": {},
   "outputs": [],
   "source": [
    "import torch\n",
    "def get_constants() -> (int, torch.tensor, int, int):\n",
    "    # NUM_DIMENSIONS\n",
    "    while True:\n",
    "        try:\n",
    "            num_dimensions = int(input('Input number of dimensions:'))\n",
    "        except:\n",
    "            print('[ERROR]: Must input an integer.')\n",
    "            continue\n",
    "\n",
    "        if num_dimensions < 1:\n",
    "            print('[ERROR]: Input must be at least 1.')\n",
    "            continue\n",
    "\n",
    "        break\n",
    "\n",
    "    # BOUNDS\n",
    "    bounds = [[], []]  # [ [lower bounds], [upper bounds] ]\n",
    "    for i in range(num_dimensions):\n",
    "        while True:\n",
    "            try:\n",
    "                lower = float(input(f'    Input lower bound for dimension {i + 1}:'))\n",
    "            except:\n",
    "                print('[ERROR]: Must input a float/integer.')\n",
    "                continue\n",
    "            break\n",
    "        while True:\n",
    "            try:\n",
    "                upper = float(input(f'    Input upper bound for dimension {i + 1}:'))\n",
    "            except:\n",
    "                print('[ERROR]: Must input a float/integer.')\n",
    "                continue\n",
    "            break\n",
    "        bounds[0].append(lower)\n",
    "        bounds[1].append(upper)\n",
    "    bounds = torch.tensor(bounds)\n",
    "\n",
    "    # NUM_ITERATIONS\n",
    "    while True:\n",
    "        try:\n",
    "            num_iterations = int(input('Input number of iterations:'))\n",
    "        except:\n",
    "            print('[ERROR]: Must input an integer.')\n",
    "            continue\n",
    "\n",
    "        if num_iterations < 1:\n",
    "            print('[ERROR]: Input must be at least 1.')\n",
    "\n",
    "        break\n",
    "\n",
    "    # NUM_START_PNTS\n",
    "    while True:\n",
    "        try:\n",
    "            num_start_pnts = int(input('Input number of points to start:'))\n",
    "        except:\n",
    "            print('[ERROR]: Must input an integer.')\n",
    "            continue\n",
    "\n",
    "        if num_start_pnts < 1:\n",
    "            print('[ERROR]: Input must be at least 1.')\n",
    "\n",
    "        break\n",
    "\n",
    "    return num_dimensions, bounds, num_iterations, num_start_pnts"
   ]
  },
  {
   "cell_type": "code",
   "execution_count": 40,
   "metadata": {},
   "outputs": [],
   "source": [
    "from scipy.optimize import rosen\n",
    "\n",
    "def calculate_target_function(train_X):\n",
    "    result = []\n",
    "    for point in train_X:  # each row is a point\n",
    "        result.append([rosen(point)])\n",
    "    return torch.tensor(result)"
   ]
  },
  {
   "cell_type": "code",
   "execution_count": 41,
   "metadata": {},
   "outputs": [],
   "source": [
    "from botorch.models import SingleTaskGP\n",
    "from gpytorch.mlls import ExactMarginalLogLikelihood\n",
    "from botorch.fit import fit_gpytorch_model\n",
    "from botorch.acquisition import UpperConfidenceBound\n",
    "from botorch.optim import optimize_acqf\n",
    "\n",
    "def BO_procedure(train_X, train_Y, bounds):\n",
    "    gp = SingleTaskGP(train_X, train_Y)\n",
    "    mll = ExactMarginalLogLikelihood(gp.likelihood, gp)\n",
    "    fit_gpytorch_model(mll)\n",
    "\n",
    "    UCB = UpperConfidenceBound(gp, beta=10)  # higher beta means more exploration (example: 10000)\n",
    "\n",
    "    candidate, acq_value = optimize_acqf(\n",
    "        UCB, bounds=bounds, q=1, num_restarts=5, raw_samples=20\n",
    "    )\n",
    "\n",
    "    candidate_val = calculate_target_function(candidate)\n",
    "    print(f'    Candidate: {candidate}')\n",
    "    print(f'        Value: {candidate_val}')\n",
    "\n",
    "    new_X = torch.cat([train_X, candidate])\n",
    "    new_Y = torch.cat([train_Y, candidate_val])\n",
    "\n",
    "    return gp, new_X, new_Y"
   ]
  },
  {
   "cell_type": "code",
   "execution_count": 42,
   "metadata": {},
   "outputs": [
    {
     "name": "stdout",
     "output_type": "stream",
     "text": [
      "[ERROR]: Input must be at least 1.\n",
      "[ERROR]: Input must be at least 1.\n",
      "[ERROR]: Must input an integer.\n",
      "[ERROR]: Must input an integer.\n",
      "[ERROR]: Must input an integer.\n",
      "[ERROR]: Must input an integer.\n",
      "[ERROR]: Must input an integer.\n",
      "[ERROR]: Must input an integer.\n",
      "[ERROR]: Must input an integer.\n",
      "[ERROR]: Must input an integer.\n",
      "[ERROR]: Must input an integer.\n",
      "[ERROR]: Must input an integer.\n",
      "[ERROR]: Must input an integer.\n",
      "[ERROR]: Must input an integer.\n",
      "[ERROR]: Must input an integer.\n",
      "[ERROR]: Must input an integer.\n",
      "[ERROR]: Must input an integer.\n",
      "[ERROR]: Must input an integer.\n",
      "[ERROR]: Must input an integer.\n",
      "[ERROR]: Must input an integer.\n",
      "Iteration 1:\n"
     ]
    },
    {
     "name": "stderr",
     "output_type": "stream",
     "text": [
      "/usr/local/lib/python3.9/site-packages/botorch/models/utils/assorted.py:200: InputDataWarning: Input data is not standardized. Please consider scaling the input to zero mean and unit variance.\n",
      "  warnings.warn(msg, InputDataWarning)\n"
     ]
    },
    {
     "name": "stdout",
     "output_type": "stream",
     "text": [
      "    Candidate: tensor([[1.0340, 0.0023, 0.6393]])\n",
      "        Value: tensor([[155.6829]])\n",
      "Iteration 2:\n"
     ]
    },
    {
     "name": "stderr",
     "output_type": "stream",
     "text": [
      "/usr/local/lib/python3.9/site-packages/botorch/models/utils/assorted.py:172: InputDataWarning: Input data is not contained to the unit cube. Please consider min-max scaling the input data.\n",
      "  warnings.warn(msg, InputDataWarning)\n",
      "/usr/local/lib/python3.9/site-packages/botorch/models/utils/assorted.py:200: InputDataWarning: Input data is not standardized. Please consider scaling the input to zero mean and unit variance.\n",
      "  warnings.warn(msg, InputDataWarning)\n"
     ]
    },
    {
     "name": "stdout",
     "output_type": "stream",
     "text": [
      "    Candidate: tensor([[1.1802, 2.2676, 1.4158]])\n",
      "        Value: tensor([[1466.5330]])\n",
      "Iteration 3:\n"
     ]
    },
    {
     "name": "stderr",
     "output_type": "stream",
     "text": [
      "/usr/local/lib/python3.9/site-packages/botorch/models/utils/assorted.py:172: InputDataWarning: Input data is not contained to the unit cube. Please consider min-max scaling the input data.\n",
      "  warnings.warn(msg, InputDataWarning)\n",
      "/usr/local/lib/python3.9/site-packages/botorch/models/utils/assorted.py:200: InputDataWarning: Input data is not standardized. Please consider scaling the input to zero mean and unit variance.\n",
      "  warnings.warn(msg, InputDataWarning)\n"
     ]
    },
    {
     "name": "stdout",
     "output_type": "stream",
     "text": [
      "    Candidate: tensor([[1.3037, 2.8666, 1.6478]])\n",
      "        Value: tensor([[4455.8389]])\n",
      "Iteration 4:\n"
     ]
    },
    {
     "name": "stderr",
     "output_type": "stream",
     "text": [
      "/usr/local/lib/python3.9/site-packages/botorch/models/utils/assorted.py:172: InputDataWarning: Input data is not contained to the unit cube. Please consider min-max scaling the input data.\n",
      "  warnings.warn(msg, InputDataWarning)\n",
      "/usr/local/lib/python3.9/site-packages/botorch/models/utils/assorted.py:200: InputDataWarning: Input data is not standardized. Please consider scaling the input to zero mean and unit variance.\n",
      "  warnings.warn(msg, InputDataWarning)\n"
     ]
    },
    {
     "name": "stdout",
     "output_type": "stream",
     "text": [
      "    Candidate: tensor([[1.3122, 2.9063, 1.6634]])\n",
      "        Value: tensor([[4745.3481]])\n",
      "Iteration 5:\n"
     ]
    },
    {
     "name": "stderr",
     "output_type": "stream",
     "text": [
      "/usr/local/lib/python3.9/site-packages/botorch/models/utils/assorted.py:172: InputDataWarning: Input data is not contained to the unit cube. Please consider min-max scaling the input data.\n",
      "  warnings.warn(msg, InputDataWarning)\n",
      "/usr/local/lib/python3.9/site-packages/botorch/models/utils/assorted.py:200: InputDataWarning: Input data is not standardized. Please consider scaling the input to zero mean and unit variance.\n",
      "  warnings.warn(msg, InputDataWarning)\n"
     ]
    },
    {
     "name": "stdout",
     "output_type": "stream",
     "text": [
      "    Candidate: tensor([[1.3135, 2.9124, 1.6656]])\n",
      "        Value: tensor([[4791.0024]])\n",
      "Iteration 6:\n"
     ]
    },
    {
     "name": "stderr",
     "output_type": "stream",
     "text": [
      "/usr/local/lib/python3.9/site-packages/botorch/models/utils/assorted.py:172: InputDataWarning: Input data is not contained to the unit cube. Please consider min-max scaling the input data.\n",
      "  warnings.warn(msg, InputDataWarning)\n",
      "/usr/local/lib/python3.9/site-packages/botorch/models/utils/assorted.py:200: InputDataWarning: Input data is not standardized. Please consider scaling the input to zero mean and unit variance.\n",
      "  warnings.warn(msg, InputDataWarning)\n"
     ]
    },
    {
     "name": "stdout",
     "output_type": "stream",
     "text": [
      "    Candidate: tensor([[1.3173, 2.9296, 1.6720]])\n",
      "        Value: tensor([[4921.6958]])\n",
      "Iteration 7:\n"
     ]
    },
    {
     "name": "stderr",
     "output_type": "stream",
     "text": [
      "/usr/local/lib/python3.9/site-packages/botorch/models/utils/assorted.py:172: InputDataWarning: Input data is not contained to the unit cube. Please consider min-max scaling the input data.\n",
      "  warnings.warn(msg, InputDataWarning)\n",
      "/usr/local/lib/python3.9/site-packages/botorch/models/utils/assorted.py:200: InputDataWarning: Input data is not standardized. Please consider scaling the input to zero mean and unit variance.\n",
      "  warnings.warn(msg, InputDataWarning)\n"
     ]
    },
    {
     "name": "stdout",
     "output_type": "stream",
     "text": [
      "    Candidate: tensor([[1.3192, 2.9408, 1.6769]])\n",
      "        Value: tensor([[5008.3403]])\n",
      "Iteration 8:\n"
     ]
    },
    {
     "name": "stderr",
     "output_type": "stream",
     "text": [
      "/usr/local/lib/python3.9/site-packages/botorch/models/utils/assorted.py:172: InputDataWarning: Input data is not contained to the unit cube. Please consider min-max scaling the input data.\n",
      "  warnings.warn(msg, InputDataWarning)\n",
      "/usr/local/lib/python3.9/site-packages/botorch/models/utils/assorted.py:200: InputDataWarning: Input data is not standardized. Please consider scaling the input to zero mean and unit variance.\n",
      "  warnings.warn(msg, InputDataWarning)\n"
     ]
    },
    {
     "name": "stdout",
     "output_type": "stream",
     "text": [
      "    Candidate: tensor([[1.3217, 2.9520, 1.6809]])\n",
      "        Value: tensor([[5096.3174]])\n",
      "Iteration 9:\n"
     ]
    },
    {
     "name": "stderr",
     "output_type": "stream",
     "text": [
      "/usr/local/lib/python3.9/site-packages/botorch/models/utils/assorted.py:172: InputDataWarning: Input data is not contained to the unit cube. Please consider min-max scaling the input data.\n",
      "  warnings.warn(msg, InputDataWarning)\n",
      "/usr/local/lib/python3.9/site-packages/botorch/models/utils/assorted.py:200: InputDataWarning: Input data is not standardized. Please consider scaling the input to zero mean and unit variance.\n",
      "  warnings.warn(msg, InputDataWarning)\n"
     ]
    },
    {
     "name": "stdout",
     "output_type": "stream",
     "text": [
      "    Candidate: tensor([[1.3276, 2.9755, 1.6904]])\n",
      "        Value: tensor([[5282.4521]])\n",
      "Iteration 10:\n"
     ]
    },
    {
     "name": "stderr",
     "output_type": "stream",
     "text": [
      "/usr/local/lib/python3.9/site-packages/botorch/models/utils/assorted.py:172: InputDataWarning: Input data is not contained to the unit cube. Please consider min-max scaling the input data.\n",
      "  warnings.warn(msg, InputDataWarning)\n",
      "/usr/local/lib/python3.9/site-packages/botorch/models/utils/assorted.py:200: InputDataWarning: Input data is not standardized. Please consider scaling the input to zero mean and unit variance.\n",
      "  warnings.warn(msg, InputDataWarning)\n"
     ]
    },
    {
     "name": "stdout",
     "output_type": "stream",
     "text": [
      "    Candidate: tensor([[1.3315, 2.9990, 1.6998]])\n",
      "        Value: tensor([[5475.1587]])\n",
      "Iteration 11:\n"
     ]
    },
    {
     "name": "stderr",
     "output_type": "stream",
     "text": [
      "/usr/local/lib/python3.9/site-packages/botorch/models/utils/assorted.py:172: InputDataWarning: Input data is not contained to the unit cube. Please consider min-max scaling the input data.\n",
      "  warnings.warn(msg, InputDataWarning)\n",
      "/usr/local/lib/python3.9/site-packages/botorch/models/utils/assorted.py:200: InputDataWarning: Input data is not standardized. Please consider scaling the input to zero mean and unit variance.\n",
      "  warnings.warn(msg, InputDataWarning)\n"
     ]
    },
    {
     "name": "stdout",
     "output_type": "stream",
     "text": [
      "    Candidate: tensor([[1.3354, 3.0170, 1.7060]])\n",
      "        Value: tensor([[5626.7505]])\n",
      "Iteration 12:\n"
     ]
    },
    {
     "name": "stderr",
     "output_type": "stream",
     "text": [
      "/usr/local/lib/python3.9/site-packages/botorch/models/utils/assorted.py:172: InputDataWarning: Input data is not contained to the unit cube. Please consider min-max scaling the input data.\n",
      "  warnings.warn(msg, InputDataWarning)\n",
      "/usr/local/lib/python3.9/site-packages/botorch/models/utils/assorted.py:200: InputDataWarning: Input data is not standardized. Please consider scaling the input to zero mean and unit variance.\n",
      "  warnings.warn(msg, InputDataWarning)\n"
     ]
    },
    {
     "name": "stdout",
     "output_type": "stream",
     "text": [
      "    Candidate: tensor([[1.3404, 3.0395, 1.7152]])\n",
      "        Value: tensor([[5818.5420]])\n",
      "Iteration 13:\n"
     ]
    },
    {
     "name": "stderr",
     "output_type": "stream",
     "text": [
      "/usr/local/lib/python3.9/site-packages/botorch/models/utils/assorted.py:172: InputDataWarning: Input data is not contained to the unit cube. Please consider min-max scaling the input data.\n",
      "  warnings.warn(msg, InputDataWarning)\n",
      "/usr/local/lib/python3.9/site-packages/botorch/models/utils/assorted.py:200: InputDataWarning: Input data is not standardized. Please consider scaling the input to zero mean and unit variance.\n",
      "  warnings.warn(msg, InputDataWarning)\n"
     ]
    },
    {
     "name": "stdout",
     "output_type": "stream",
     "text": [
      "    Candidate: tensor([[1.3368, 3.0227, 1.7090]])\n",
      "        Value: tensor([[5674.0762]])\n",
      "Iteration 14:\n"
     ]
    },
    {
     "name": "stderr",
     "output_type": "stream",
     "text": [
      "/usr/local/lib/python3.9/site-packages/botorch/models/utils/assorted.py:172: InputDataWarning: Input data is not contained to the unit cube. Please consider min-max scaling the input data.\n",
      "  warnings.warn(msg, InputDataWarning)\n",
      "/usr/local/lib/python3.9/site-packages/botorch/models/utils/assorted.py:200: InputDataWarning: Input data is not standardized. Please consider scaling the input to zero mean and unit variance.\n",
      "  warnings.warn(msg, InputDataWarning)\n"
     ]
    },
    {
     "name": "stdout",
     "output_type": "stream",
     "text": [
      "    Candidate: tensor([[1.3453, 3.0623, 1.7241]])\n",
      "        Value: tensor([[6018.5176]])\n",
      "Iteration 15:\n"
     ]
    },
    {
     "name": "stderr",
     "output_type": "stream",
     "text": [
      "/usr/local/lib/python3.9/site-packages/botorch/models/utils/assorted.py:172: InputDataWarning: Input data is not contained to the unit cube. Please consider min-max scaling the input data.\n",
      "  warnings.warn(msg, InputDataWarning)\n",
      "/usr/local/lib/python3.9/site-packages/botorch/models/utils/assorted.py:200: InputDataWarning: Input data is not standardized. Please consider scaling the input to zero mean and unit variance.\n",
      "  warnings.warn(msg, InputDataWarning)\n"
     ]
    },
    {
     "name": "stdout",
     "output_type": "stream",
     "text": [
      "    Candidate: tensor([[1.3465, 3.0671, 1.7257]])\n",
      "        Value: tensor([[6061.6841]])\n",
      "Iteration 16:\n"
     ]
    },
    {
     "name": "stderr",
     "output_type": "stream",
     "text": [
      "/usr/local/lib/python3.9/site-packages/botorch/models/utils/assorted.py:172: InputDataWarning: Input data is not contained to the unit cube. Please consider min-max scaling the input data.\n",
      "  warnings.warn(msg, InputDataWarning)\n",
      "/usr/local/lib/python3.9/site-packages/botorch/models/utils/assorted.py:200: InputDataWarning: Input data is not standardized. Please consider scaling the input to zero mean and unit variance.\n",
      "  warnings.warn(msg, InputDataWarning)\n",
      "/usr/local/lib/python3.9/site-packages/botorch/fit.py:148: OptimizationWarning: Fitting failed with the optimizer reporting 'ABNORMAL_TERMINATION_IN_LNSRCH'\n",
      "  warnings.warn(w.message, w.category)\n",
      "/usr/local/lib/python3.9/site-packages/botorch/fit.py:148: OptimizationWarning: Fitting failed with the optimizer reporting 'ABNORMAL_TERMINATION_IN_LNSRCH'\n",
      "  warnings.warn(w.message, w.category)\n"
     ]
    },
    {
     "name": "stdout",
     "output_type": "stream",
     "text": [
      "    Candidate: tensor([[1.3513, 3.0900, 1.7349]])\n",
      "        Value: tensor([[6269.3037]])\n",
      "Iteration 17:\n"
     ]
    },
    {
     "name": "stderr",
     "output_type": "stream",
     "text": [
      "/usr/local/lib/python3.9/site-packages/botorch/models/utils/assorted.py:172: InputDataWarning: Input data is not contained to the unit cube. Please consider min-max scaling the input data.\n",
      "  warnings.warn(msg, InputDataWarning)\n",
      "/usr/local/lib/python3.9/site-packages/botorch/models/utils/assorted.py:200: InputDataWarning: Input data is not standardized. Please consider scaling the input to zero mean and unit variance.\n",
      "  warnings.warn(msg, InputDataWarning)\n"
     ]
    },
    {
     "name": "stdout",
     "output_type": "stream",
     "text": [
      "    Candidate: tensor([[1.3549, 3.1055, 1.7414]])\n",
      "        Value: tensor([[6410.6294]])\n",
      "Iteration 18:\n"
     ]
    },
    {
     "name": "stderr",
     "output_type": "stream",
     "text": [
      "/usr/local/lib/python3.9/site-packages/botorch/models/utils/assorted.py:172: InputDataWarning: Input data is not contained to the unit cube. Please consider min-max scaling the input data.\n",
      "  warnings.warn(msg, InputDataWarning)\n",
      "/usr/local/lib/python3.9/site-packages/botorch/models/utils/assorted.py:200: InputDataWarning: Input data is not standardized. Please consider scaling the input to zero mean and unit variance.\n",
      "  warnings.warn(msg, InputDataWarning)\n"
     ]
    },
    {
     "name": "stdout",
     "output_type": "stream",
     "text": [
      "    Candidate: tensor([[1.3580, 3.1211, 1.7475]])\n",
      "        Value: tensor([[6557.2471]])\n",
      "Iteration 19:\n"
     ]
    },
    {
     "name": "stderr",
     "output_type": "stream",
     "text": [
      "/usr/local/lib/python3.9/site-packages/botorch/models/utils/assorted.py:172: InputDataWarning: Input data is not contained to the unit cube. Please consider min-max scaling the input data.\n",
      "  warnings.warn(msg, InputDataWarning)\n",
      "/usr/local/lib/python3.9/site-packages/botorch/models/utils/assorted.py:200: InputDataWarning: Input data is not standardized. Please consider scaling the input to zero mean and unit variance.\n",
      "  warnings.warn(msg, InputDataWarning)\n"
     ]
    },
    {
     "name": "stdout",
     "output_type": "stream",
     "text": [
      "    Candidate: tensor([[1.3617, 3.1378, 1.7552]])\n",
      "        Value: tensor([[6715.6367]])\n",
      "Iteration 20:\n"
     ]
    },
    {
     "name": "stderr",
     "output_type": "stream",
     "text": [
      "/usr/local/lib/python3.9/site-packages/botorch/models/utils/assorted.py:172: InputDataWarning: Input data is not contained to the unit cube. Please consider min-max scaling the input data.\n",
      "  warnings.warn(msg, InputDataWarning)\n",
      "/usr/local/lib/python3.9/site-packages/botorch/models/utils/assorted.py:200: InputDataWarning: Input data is not standardized. Please consider scaling the input to zero mean and unit variance.\n",
      "  warnings.warn(msg, InputDataWarning)\n"
     ]
    },
    {
     "name": "stdout",
     "output_type": "stream",
     "text": [
      "    Candidate: tensor([[1.3644, 3.1535, 1.7601]])\n",
      "        Value: tensor([[6870.5762]])\n"
     ]
    }
   ],
   "source": [
    "NUM_DIMENSIONS, BOUNDS, NUM_ITERATIONS, NUM_START_PNTS = get_constants()\n",
    "train_X = torch.rand(NUM_START_PNTS, NUM_DIMENSIONS)\n",
    "train_Y = calculate_target_function(train_X)\n",
    "\n",
    "for i in range(NUM_ITERATIONS):\n",
    "    print(f'Iteration {i + 1}:')\n",
    "    model, train_X, train_Y = BO_procedure(train_X, train_Y, BOUNDS)"
   ]
  }
 ],
 "metadata": {
  "kernelspec": {
   "display_name": "Python 3.9.13 64-bit",
   "language": "python",
   "name": "python3"
  },
  "language_info": {
   "codemirror_mode": {
    "name": "ipython",
    "version": 3
   },
   "file_extension": ".py",
   "mimetype": "text/x-python",
   "name": "python",
   "nbconvert_exporter": "python",
   "pygments_lexer": "ipython3",
   "version": "3.9.13"
  },
  "orig_nbformat": 4,
  "vscode": {
   "interpreter": {
    "hash": "aee8b7b246df8f9039afb4144a1f6fd8d2ca17a180786b69acc140d282b71a49"
   }
  }
 },
 "nbformat": 4,
 "nbformat_minor": 2
}
