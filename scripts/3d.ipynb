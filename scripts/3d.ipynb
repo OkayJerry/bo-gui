{
 "cells": [
  {
   "cell_type": "code",
   "execution_count": 65,
   "metadata": {},
   "outputs": [],
   "source": [
    "import matplotlib.pyplot as plt\n",
    "import numpy as np\n",
    "import scipy\n",
    "from scipy.optimize import rosen\n",
    "import torch\n",
    "from botorch.acquisition import UpperConfidenceBound\n",
    "from botorch.fit import fit_gpytorch_model\n",
    "from botorch.models import SingleTaskGP\n",
    "from botorch.optim import optimize_acqf\n",
    "from botorch.utils import standardize\n",
    "from gpytorch.mlls import ExactMarginalLogLikelihood"
   ]
  },
  {
   "cell_type": "code",
   "execution_count": 66,
   "metadata": {},
   "outputs": [],
   "source": [
    "def calculate_target_function(train_X):\n",
    "    \n",
    "    return torch.from_numpy(rosen(train_X)[..., None])"
   ]
  },
  {
   "cell_type": "code",
   "execution_count": 67,
   "metadata": {},
   "outputs": [],
   "source": [
    "def BO_procedure(train_X, train_Y, bounds):\n",
    "    gp = SingleTaskGP(train_X, train_Y)\n",
    "    mll = ExactMarginalLogLikelihood(gp.likelihood, gp)\n",
    "    fit_gpytorch_model(mll)\n",
    "\n",
    "    UCB = UpperConfidenceBound(gp, beta=5.0)  # higher beta means more exploration (example: 10000)\n",
    "\n",
    "    candidate, acq_value = optimize_acqf(\n",
    "        UCB, bounds=bounds, q=1, num_restarts=5, raw_samples=20,\n",
    "    )\n",
    "\n",
    "    candidate_y = calculate_target_function(candidate)\n",
    "    # print(f'    Candidate: ({candidate[0][0].numpy()}, {candidate_y[0][0].numpy()})')\n",
    "\n",
    "    new_X = torch.cat([train_X, candidate])\n",
    "    new_Y = torch.cat([train_Y, candidate_y])\n",
    "\n",
    "    return gp, new_X, new_Y"
   ]
  },
  {
   "cell_type": "code",
   "execution_count": 68,
   "metadata": {},
   "outputs": [],
   "source": [
    "def plot(model, train_X, train_Y, bounds):\n",
    "    from matplotlib import pyplot as plt\n",
    "    from mpl_toolkits.mplot3d import Axes3D\n",
    "    %matplotlib inline\n",
    "\n",
    "    target_x = torch.linspace(bounds[0][0], bounds[1][0], 101)\n",
    "    target_y = calculate_target_function(target_x, target_x)\n",
    "\n",
    "    # Initialize plot\n",
    "    ax = plt.subplot(111, projection='3d')\n",
    "    # test model on 101 regular spaced points on the interval [0, 1]\n",
    "    test_X = torch.linspace(bounds[0][0], bounds[1][0], 101)\n",
    "\n",
    "    \n",
    "\n",
    "    # no need for gradients\n",
    "    with torch.no_grad():\n",
    "        # plot target function (inclusion of noise decreases accuracy)\n",
    "        ax.plot(target_x.cpu().numpy(), target_y.cpu().numpy(), 'r')\n",
    "\n",
    "        # compute posterior\n",
    "        posterior = model.posterior(test_X)\n",
    "        # Get upper and lower confidence bounds (2 standard deviations from the mean)\n",
    "        lower, upper = posterior.mvn.confidence_region()\n",
    "        # Plot training points as black stars\n",
    "        ax.plot(train_X.cpu().numpy(), train_Y.cpu().numpy(), 'k*')\n",
    "        # Plot posterior means as blue line\n",
    "        ax.plot(test_X.cpu().numpy(), posterior.mean.cpu().numpy(), 'b')\n",
    "        # Shade between the lower and upper confidence bounds\n",
    "        ax.fill_between(test_X.cpu().numpy(), lower.cpu().numpy(), upper.cpu().numpy(), alpha=0.5)\n",
    "\n",
    "    ax.legend(['Target Function', 'Observed Data', 'Mean', 'Confidence'])\n",
    "    plt.tight_layout()"
   ]
  },
  {
   "cell_type": "code",
   "execution_count": 69,
   "metadata": {},
   "outputs": [
    {
     "name": "stdout",
     "output_type": "stream",
     "text": [
      "tensor([[-1., -1.],\n",
      "        [ 1.,  1.]])\n",
      "tensor([[4.],\n",
      "        [4.]])\n",
      "Executing Iteration 1:\n"
     ]
    },
    {
     "ename": "RuntimeError",
     "evalue": "\"_sobol_engine_draw\" not implemented for 'Long'",
     "output_type": "error",
     "traceback": [
      "\u001b[0;31m---------------------------------------------------------------------------\u001b[0m",
      "\u001b[0;31mRuntimeError\u001b[0m                              Traceback (most recent call last)",
      "\u001b[1;32m/Users/geraldhoskins/frib/bo-gui/scripts/3d.ipynb Cell 5\u001b[0m in \u001b[0;36m<cell line: 9>\u001b[0;34m()\u001b[0m\n\u001b[1;32m      <a href='vscode-notebook-cell:/Users/geraldhoskins/frib/bo-gui/scripts/3d.ipynb#W4sZmlsZQ%3D%3D?line=8'>9</a>\u001b[0m \u001b[39mfor\u001b[39;00m i \u001b[39min\u001b[39;00m \u001b[39mrange\u001b[39m(NUM_ITERATIONS):\n\u001b[1;32m     <a href='vscode-notebook-cell:/Users/geraldhoskins/frib/bo-gui/scripts/3d.ipynb#W4sZmlsZQ%3D%3D?line=9'>10</a>\u001b[0m     \u001b[39mprint\u001b[39m(\u001b[39mf\u001b[39m\u001b[39m'\u001b[39m\u001b[39mExecuting Iteration \u001b[39m\u001b[39m{\u001b[39;00mi \u001b[39m+\u001b[39m \u001b[39m1\u001b[39m\u001b[39m}\u001b[39;00m\u001b[39m:\u001b[39m\u001b[39m'\u001b[39m)\n\u001b[0;32m---> <a href='vscode-notebook-cell:/Users/geraldhoskins/frib/bo-gui/scripts/3d.ipynb#W4sZmlsZQ%3D%3D?line=10'>11</a>\u001b[0m     model, train_X, train_Y \u001b[39m=\u001b[39m BO_procedure(train_X, train_Y, BOUNDS)\n",
      "\u001b[1;32m/Users/geraldhoskins/frib/bo-gui/scripts/3d.ipynb Cell 5\u001b[0m in \u001b[0;36mBO_procedure\u001b[0;34m(train_X, train_Y, bounds)\u001b[0m\n\u001b[1;32m      <a href='vscode-notebook-cell:/Users/geraldhoskins/frib/bo-gui/scripts/3d.ipynb#W4sZmlsZQ%3D%3D?line=3'>4</a>\u001b[0m fit_gpytorch_model(mll)\n\u001b[1;32m      <a href='vscode-notebook-cell:/Users/geraldhoskins/frib/bo-gui/scripts/3d.ipynb#W4sZmlsZQ%3D%3D?line=5'>6</a>\u001b[0m UCB \u001b[39m=\u001b[39m UpperConfidenceBound(gp, beta\u001b[39m=\u001b[39m\u001b[39m5.0\u001b[39m)  \u001b[39m# higher beta means more exploration (example: 10000)\u001b[39;00m\n\u001b[0;32m----> <a href='vscode-notebook-cell:/Users/geraldhoskins/frib/bo-gui/scripts/3d.ipynb#W4sZmlsZQ%3D%3D?line=7'>8</a>\u001b[0m candidate, acq_value \u001b[39m=\u001b[39m optimize_acqf(\n\u001b[1;32m      <a href='vscode-notebook-cell:/Users/geraldhoskins/frib/bo-gui/scripts/3d.ipynb#W4sZmlsZQ%3D%3D?line=8'>9</a>\u001b[0m     UCB, bounds\u001b[39m=\u001b[39;49mbounds, q\u001b[39m=\u001b[39;49m\u001b[39m1\u001b[39;49m, num_restarts\u001b[39m=\u001b[39;49m\u001b[39m5\u001b[39;49m, raw_samples\u001b[39m=\u001b[39;49m\u001b[39m20\u001b[39;49m,\n\u001b[1;32m     <a href='vscode-notebook-cell:/Users/geraldhoskins/frib/bo-gui/scripts/3d.ipynb#W4sZmlsZQ%3D%3D?line=9'>10</a>\u001b[0m )\n\u001b[1;32m     <a href='vscode-notebook-cell:/Users/geraldhoskins/frib/bo-gui/scripts/3d.ipynb#W4sZmlsZQ%3D%3D?line=11'>12</a>\u001b[0m candidate_y \u001b[39m=\u001b[39m calculate_target_function(candidate)\n\u001b[1;32m     <a href='vscode-notebook-cell:/Users/geraldhoskins/frib/bo-gui/scripts/3d.ipynb#W4sZmlsZQ%3D%3D?line=12'>13</a>\u001b[0m \u001b[39m# print(f'    Candidate: ({candidate[0][0].numpy()}, {candidate_y[0][0].numpy()})')\u001b[39;00m\n",
      "File \u001b[0;32m/usr/local/lib/python3.9/site-packages/botorch/optim/optimize.py:211\u001b[0m, in \u001b[0;36moptimize_acqf\u001b[0;34m(acq_function, bounds, q, num_restarts, raw_samples, options, inequality_constraints, equality_constraints, nonlinear_inequality_constraints, fixed_features, post_processing_func, batch_initial_conditions, return_best_only, sequential, **kwargs)\u001b[0m\n\u001b[1;32m    202\u001b[0m         \u001b[39mraise\u001b[39;00m \u001b[39mValueError\u001b[39;00m(\n\u001b[1;32m    203\u001b[0m             \u001b[39m\"\u001b[39m\u001b[39mMust specify `raw_samples` when `batch_initial_conditions` is `None`.\u001b[39m\u001b[39m\"\u001b[39m\n\u001b[1;32m    204\u001b[0m         )\n\u001b[1;32m    206\u001b[0m     ic_gen \u001b[39m=\u001b[39m (\n\u001b[1;32m    207\u001b[0m         gen_one_shot_kg_initial_conditions\n\u001b[1;32m    208\u001b[0m         \u001b[39mif\u001b[39;00m \u001b[39misinstance\u001b[39m(acq_function, qKnowledgeGradient)\n\u001b[1;32m    209\u001b[0m         \u001b[39melse\u001b[39;00m gen_batch_initial_conditions\n\u001b[1;32m    210\u001b[0m     )\n\u001b[0;32m--> 211\u001b[0m     batch_initial_conditions \u001b[39m=\u001b[39m ic_gen(\n\u001b[1;32m    212\u001b[0m         acq_function\u001b[39m=\u001b[39;49macq_function,\n\u001b[1;32m    213\u001b[0m         bounds\u001b[39m=\u001b[39;49mbounds,\n\u001b[1;32m    214\u001b[0m         q\u001b[39m=\u001b[39;49mq,\n\u001b[1;32m    215\u001b[0m         num_restarts\u001b[39m=\u001b[39;49mnum_restarts,\n\u001b[1;32m    216\u001b[0m         raw_samples\u001b[39m=\u001b[39;49mraw_samples,\n\u001b[1;32m    217\u001b[0m         fixed_features\u001b[39m=\u001b[39;49mfixed_features,\n\u001b[1;32m    218\u001b[0m         options\u001b[39m=\u001b[39;49moptions,\n\u001b[1;32m    219\u001b[0m         inequality_constraints\u001b[39m=\u001b[39;49minequality_constraints,\n\u001b[1;32m    220\u001b[0m         equality_constraints\u001b[39m=\u001b[39;49mequality_constraints,\n\u001b[1;32m    221\u001b[0m     )\n\u001b[1;32m    223\u001b[0m batch_limit: \u001b[39mint\u001b[39m \u001b[39m=\u001b[39m options\u001b[39m.\u001b[39mget(\n\u001b[1;32m    224\u001b[0m     \u001b[39m\"\u001b[39m\u001b[39mbatch_limit\u001b[39m\u001b[39m\"\u001b[39m, num_restarts \u001b[39mif\u001b[39;00m \u001b[39mnot\u001b[39;00m nonlinear_inequality_constraints \u001b[39melse\u001b[39;00m \u001b[39m1\u001b[39m\n\u001b[1;32m    225\u001b[0m )\n\u001b[1;32m    226\u001b[0m batch_candidates_list: List[Tensor] \u001b[39m=\u001b[39m []\n",
      "File \u001b[0;32m/usr/local/lib/python3.9/site-packages/botorch/optim/initializers.py:140\u001b[0m, in \u001b[0;36mgen_batch_initial_conditions\u001b[0;34m(acq_function, bounds, q, num_restarts, raw_samples, fixed_features, options, inequality_constraints, equality_constraints)\u001b[0m\n\u001b[1;32m    138\u001b[0m \u001b[39mif\u001b[39;00m inequality_constraints \u001b[39mis\u001b[39;00m \u001b[39mNone\u001b[39;00m \u001b[39mand\u001b[39;00m equality_constraints \u001b[39mis\u001b[39;00m \u001b[39mNone\u001b[39;00m:\n\u001b[1;32m    139\u001b[0m     \u001b[39mif\u001b[39;00m effective_dim \u001b[39m<\u001b[39m\u001b[39m=\u001b[39m SobolEngine\u001b[39m.\u001b[39mMAXDIM:\n\u001b[0;32m--> 140\u001b[0m         X_rnd \u001b[39m=\u001b[39m draw_sobol_samples(bounds\u001b[39m=\u001b[39;49mbounds_cpu, n\u001b[39m=\u001b[39;49mn, q\u001b[39m=\u001b[39;49mq, seed\u001b[39m=\u001b[39;49mseed)\n\u001b[1;32m    141\u001b[0m     \u001b[39melse\u001b[39;00m:\n\u001b[1;32m    142\u001b[0m         \u001b[39mwith\u001b[39;00m manual_seed(seed):\n\u001b[1;32m    143\u001b[0m             \u001b[39m# load on cpu\u001b[39;00m\n",
      "File \u001b[0;32m/usr/local/lib/python3.9/site-packages/botorch/utils/sampling.py:192\u001b[0m, in \u001b[0;36mdraw_sobol_samples\u001b[0;34m(bounds, n, q, batch_shape, seed)\u001b[0m\n\u001b[1;32m    190\u001b[0m rng \u001b[39m=\u001b[39m bounds[\u001b[39m1\u001b[39m] \u001b[39m-\u001b[39m bounds[\u001b[39m0\u001b[39m]\n\u001b[1;32m    191\u001b[0m sobol_engine \u001b[39m=\u001b[39m SobolEngine(q \u001b[39m*\u001b[39m d, scramble\u001b[39m=\u001b[39m\u001b[39mTrue\u001b[39;00m, seed\u001b[39m=\u001b[39mseed)\n\u001b[0;32m--> 192\u001b[0m samples_raw \u001b[39m=\u001b[39m sobol_engine\u001b[39m.\u001b[39;49mdraw(batch_size \u001b[39m*\u001b[39;49m n, dtype\u001b[39m=\u001b[39;49mlower\u001b[39m.\u001b[39;49mdtype)\n\u001b[1;32m    193\u001b[0m samples_raw \u001b[39m=\u001b[39m samples_raw\u001b[39m.\u001b[39mview(\u001b[39m*\u001b[39mbatch_shape, n, q, d)\u001b[39m.\u001b[39mto(device\u001b[39m=\u001b[39mlower\u001b[39m.\u001b[39mdevice)\n\u001b[1;32m    194\u001b[0m \u001b[39mif\u001b[39;00m batch_shape \u001b[39m!=\u001b[39m torch\u001b[39m.\u001b[39mSize():\n",
      "File \u001b[0;32m/usr/local/lib/python3.9/site-packages/torch/quasirandom.py:89\u001b[0m, in \u001b[0;36mSobolEngine.draw\u001b[0;34m(self, n, out, dtype)\u001b[0m\n\u001b[1;32m     87\u001b[0m         result \u001b[39m=\u001b[39m \u001b[39mself\u001b[39m\u001b[39m.\u001b[39m_first_point\u001b[39m.\u001b[39mto(dtype)\n\u001b[1;32m     88\u001b[0m     \u001b[39melse\u001b[39;00m:\n\u001b[0;32m---> 89\u001b[0m         result, \u001b[39mself\u001b[39m\u001b[39m.\u001b[39mquasi \u001b[39m=\u001b[39m torch\u001b[39m.\u001b[39;49m_sobol_engine_draw(\n\u001b[1;32m     90\u001b[0m             \u001b[39mself\u001b[39;49m\u001b[39m.\u001b[39;49mquasi, n \u001b[39m-\u001b[39;49m \u001b[39m1\u001b[39;49m, \u001b[39mself\u001b[39;49m\u001b[39m.\u001b[39;49msobolstate, \u001b[39mself\u001b[39;49m\u001b[39m.\u001b[39;49mdimension, \u001b[39mself\u001b[39;49m\u001b[39m.\u001b[39;49mnum_generated, dtype\u001b[39m=\u001b[39;49mdtype,\n\u001b[1;32m     91\u001b[0m         )\n\u001b[1;32m     92\u001b[0m         result \u001b[39m=\u001b[39m torch\u001b[39m.\u001b[39mcat((\u001b[39mself\u001b[39m\u001b[39m.\u001b[39m_first_point, result), dim\u001b[39m=\u001b[39m\u001b[39m-\u001b[39m\u001b[39m2\u001b[39m)\n\u001b[1;32m     93\u001b[0m \u001b[39melse\u001b[39;00m:\n",
      "\u001b[0;31mRuntimeError\u001b[0m: \"_sobol_engine_draw\" not implemented for 'Long'"
     ]
    }
   ],
   "source": [
    "NUM_ITERATIONS = 20\n",
    "BOUNDS = torch.tensor([[-1, -1], [1, 1]])\n",
    "x = torch.linspace(BOUNDS[0][0], BOUNDS[1][0], 2).unsqueeze(1)\n",
    "y = torch.linspace(BOUNDS[0][1], BOUNDS[1][1], 2).unsqueeze(1)\n",
    "train_X = torch.cat((x, y), 1)  # 0 for concatenate as row, 1 as column\n",
    "train_Y = calculate_target_function(train_X)\n",
    "print(train_X)\n",
    "print(train_Y)\n",
    "for i in range(NUM_ITERATIONS):\n",
    "    print(f'Executing Iteration {i + 1}:')\n",
    "    model, train_X, train_Y = BO_procedure(train_X, train_Y, BOUNDS)\n",
    "\n",
    "# plot(model, train_X, train_Y, BOUNDS)"
   ]
  }
 ],
 "metadata": {
  "kernelspec": {
   "display_name": "Python 3.9.13 64-bit",
   "language": "python",
   "name": "python3"
  },
  "language_info": {
   "codemirror_mode": {
    "name": "ipython",
    "version": 3
   },
   "file_extension": ".py",
   "mimetype": "text/x-python",
   "name": "python",
   "nbconvert_exporter": "python",
   "pygments_lexer": "ipython3",
   "version": "3.9.13"
  },
  "orig_nbformat": 4,
  "vscode": {
   "interpreter": {
    "hash": "aee8b7b246df8f9039afb4144a1f6fd8d2ca17a180786b69acc140d282b71a49"
   }
  }
 },
 "nbformat": 4,
 "nbformat_minor": 2
}
